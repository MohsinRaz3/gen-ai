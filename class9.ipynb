{
 "cells": [
  {
   "cell_type": "code",
   "execution_count": 15,
   "metadata": {},
   "outputs": [
    {
     "data": {
      "text/plain": [
       "' addition: 7  subtraction 3'"
      ]
     },
     "execution_count": 15,
     "metadata": {},
     "output_type": "execute_result"
    }
   ],
   "source": [
    "def calculator(val1:int, val2:int)-> int:\n",
    "    return f\" addition: {val1 +val2} \" f\" subtraction: {val1 - val2}\"\n",
    "\n",
    "\n",
    "calculator(5,2)"
   ]
  },
  {
   "cell_type": "markdown",
   "metadata": {},
   "source": [
    "# Lambda function in python"
   ]
  },
  {
   "cell_type": "code",
   "execution_count": 18,
   "metadata": {},
   "outputs": [
    {
     "data": {
      "text/plain": [
       "5"
      ]
     },
     "execution_count": 18,
     "metadata": {},
     "output_type": "execute_result"
    }
   ],
   "source": [
    "a = lambda num1, num2 : num1 + num2\n",
    "\n",
    "a(2,3)"
   ]
  },
  {
   "cell_type": "markdown",
   "metadata": {},
   "source": [
    "## Lambda funtion with type hinting"
   ]
  },
  {
   "cell_type": "code",
   "execution_count": 19,
   "metadata": {},
   "outputs": [
    {
     "data": {
      "text/plain": [
       "7"
      ]
     },
     "execution_count": 19,
     "metadata": {},
     "output_type": "execute_result"
    }
   ],
   "source": [
    "from typing import Callable\n",
    "\n",
    "add: Callable[[int,int],int] = lambda num1 , num2 : num1 + num2\n",
    "\n",
    "add(5,2)"
   ]
  },
  {
   "cell_type": "code",
   "execution_count": 20,
   "metadata": {},
   "outputs": [
    {
     "name": "stdout",
     "output_type": "stream",
     "text": [
      "9\n"
     ]
    }
   ],
   "source": [
    "from typing import Callable\n",
    "\n",
    "mul: Callable[[int,int],int] = lambda num1, num2 : num1*num2\n",
    "\n",
    "result:int = mul(3,3)\n",
    "print(result)"
   ]
  },
  {
   "cell_type": "code",
   "execution_count": 22,
   "metadata": {},
   "outputs": [
    {
     "name": "stdout",
     "output_type": "stream",
     "text": [
      "[1, 4, 9, 16, 25, 36, 49, 64, 81, 100]\n"
     ]
    }
   ],
   "source": [
    "data: list[int] = [1,2,3,4,5,6,7,8,9,10]\n",
    "\n",
    "data = list(map(lambda x:x**2, data))\n",
    "print(data)"
   ]
  },
  {
   "cell_type": "code",
   "execution_count": 4,
   "metadata": {},
   "outputs": [
    {
     "data": {
      "text/plain": [
       "6"
      ]
     },
     "execution_count": 4,
     "metadata": {},
     "output_type": "execute_result"
    }
   ],
   "source": [
    "c = lambda a,b : a*b\n",
    "\n",
    "c(2,3)"
   ]
  },
  {
   "cell_type": "code",
   "execution_count": 18,
   "metadata": {},
   "outputs": [
    {
     "name": "stdout",
     "output_type": "stream",
     "text": [
      "['Ahsan Khan', 'Mohsin Khan', 'Faisal Khan', 'Haider Khan', 'Fahad Khan']\n"
     ]
    }
   ],
   "source": [
    "from typing import Callable\n",
    "\n",
    "data:list[str] = [\"ahsan\",\"mohsin\",\"faisal\",\"haider\",\"fahad\"]\n",
    "\n",
    "data: Callable[[str,str],str] = list(map(lambda x:x.title() + \" Khan\", data))\n",
    "print(data)"
   ]
  },
  {
   "cell_type": "code",
   "execution_count": 20,
   "metadata": {},
   "outputs": [
    {
     "data": {
      "text/plain": [
       "7"
      ]
     },
     "execution_count": 20,
     "metadata": {},
     "output_type": "execute_result"
    }
   ],
   "source": [
    "from typing import Callable\n",
    "\n",
    "numberz: Callable[[int,int,int],int] = lambda num1,num2,num3 : ((num1* num2 ) + num3)\n",
    "\n",
    "numberz(2,2,3)\n"
   ]
  },
  {
   "cell_type": "code",
   "execution_count": 13,
   "metadata": {},
   "outputs": [
    {
     "data": {
      "text/plain": [
       "[2, 4, 6, 8, 10]"
      ]
     },
     "execution_count": 13,
     "metadata": {},
     "output_type": "execute_result"
    }
   ],
   "source": [
    "data:list[int] = list(filter(lambda x:x%2==0, range(2,11)))\n",
    "data"
   ]
  },
  {
   "cell_type": "code",
   "execution_count": 16,
   "metadata": {},
   "outputs": [
    {
     "name": "stdout",
     "output_type": "stream",
     "text": [
      "2\n",
      "4\n"
     ]
    }
   ],
   "source": [
    "data:list[int]= filter(lambda x:x % 2==0, range(1,11))\n",
    "print(next(data))\n",
    "print(next(data))"
   ]
  },
  {
   "cell_type": "code",
   "execution_count": 25,
   "metadata": {},
   "outputs": [
    {
     "name": "stdout",
     "output_type": "stream",
     "text": [
      "[4, 5, 6, 7, 8, 9, 10, 11]\n"
     ]
    }
   ],
   "source": [
    "from collections.abc import Iterator\n",
    "\n",
    "def my_generator(start:int,end:int,step:int=1)->Iterator[int]:\n",
    "    for i in range(start,end,step):\n",
    "        yield i+2 #save memory space while iterating and adding 2 at same time, before that it was creating range list first then adding 2 each elements causing higher memory space\n",
    "\n",
    "a: Iterator[int] = my_generator(start=2,end=10)\n",
    "print(list(a))"
   ]
  },
  {
   "cell_type": "markdown",
   "metadata": {},
   "source": [
    "# parameters, *args, **kargs"
   ]
  },
  {
   "cell_type": "code",
   "execution_count": 14,
   "metadata": {},
   "outputs": [
    {
     "name": "stdout",
     "output_type": "stream",
     "text": [
      "1st param: 2,\n",
      "2nd param: 3, \n",
      "3rd Argumenets (4, 5, 6, 7, 8), \n",
      "4th All positional args  {'d': 3, 'f': 5}\n"
     ]
    }
   ],
   "source": [
    "def my_function(a,b, *abc, **xyz):\n",
    "    print(f\"1st param: {a},\\n2nd param: {b}, \\n3rd Argumenets {abc}, \\n4th All positional args  {xyz}\")\n",
    "    \n",
    "my_function(2,3,4,5,6,7,8, d=3,f=5)"
   ]
  },
  {
   "cell_type": "code",
   "execution_count": 19,
   "metadata": {},
   "outputs": [
    {
     "name": "stdout",
     "output_type": "stream",
     "text": [
      "1st param: 2,\n",
      "2nd param: 3, \n",
      "3rd Argumenets (4, 5, 6, 7, 8), \n",
      "4th All positional args  {'d': 3, 'f': 5}\n"
     ]
    }
   ],
   "source": [
    "from typing import Tuple,Dict\n",
    "\n",
    "def my_function(a:int,b:int, *abc:int, **xyz:int):\n",
    "    print(f\"1st param: {a},\\n2nd param: {b}, \\n3rd Argumenets {abc}, \\n4th All positional args  {xyz}\")\n",
    "    \n",
    "my_function(2,3,4,5,6,7,8, d=3,f=5)"
   ]
  },
  {
   "cell_type": "markdown",
   "metadata": {},
   "source": [
    "# Decorator Function"
   ]
  },
  {
   "cell_type": "code",
   "execution_count": 32,
   "metadata": {},
   "outputs": [
    {
     "name": "stdout",
     "output_type": "stream",
     "text": [
      "first decor\n",
      "hellow\n",
      "second decor\n"
     ]
    }
   ],
   "source": [
    "from typing import Callable\n",
    "\n",
    "def decorator_fun(func: Callable[[],None])-> Callable[[],None]:\n",
    "    def wrapper():\n",
    "        print(\"first decor\")\n",
    "        func()\n",
    "        print(\"second decor\")\n",
    "    return wrapper\n",
    "    \n",
    "@decorator_fun\n",
    "def say_hello():\n",
    "    print(\"hellow\")\n",
    "say_hello()"
   ]
  }
 ],
 "metadata": {
  "kernelspec": {
   "display_name": "python12",
   "language": "python",
   "name": "python3"
  },
  "language_info": {
   "codemirror_mode": {
    "name": "ipython",
    "version": 3
   },
   "file_extension": ".py",
   "mimetype": "text/x-python",
   "name": "python",
   "nbconvert_exporter": "python",
   "pygments_lexer": "ipython3",
   "version": "3.12.0"
  }
 },
 "nbformat": 4,
 "nbformat_minor": 2
}
