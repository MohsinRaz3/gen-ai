{
 "cells": [
  {
   "cell_type": "markdown",
   "metadata": {},
   "source": [
    "## Class in Python"
   ]
  },
  {
   "cell_type": "code",
   "execution_count": 23,
   "metadata": {},
   "outputs": [
    {
     "name": "stdout",
     "output_type": "stream",
     "text": [
      "This vehical brand is BMW, \n",
      "it's model is bmw23 \n",
      "and build in year 2023\n",
      "This BMW is SUV\n",
      "\n",
      "        Contact us at 0343923423 or visit our website at cars.com\n",
      "        \n"
     ]
    },
    {
     "data": {
      "text/plain": [
       "1"
      ]
     },
     "execution_count": 23,
     "metadata": {},
     "output_type": "execute_result"
    }
   ],
   "source": [
    "class Vehicle():\n",
    "    help_line:str = \"0343923423\"\n",
    "    website:str = \"cars.com\"\n",
    "    counter:int =0\n",
    "    def __init__(self,brand:str,model:str,year:int) -> None:\n",
    "        self.brand:str = brand\n",
    "        self.model:str = model\n",
    "        self.year:int = year\n",
    "        self.seater:int = 4\n",
    "        Vehicle.counter +=1\n",
    "        \n",
    "    def isSUV(self, SUV:str):\n",
    "        print(f\"This {self.brand} is {SUV}\")\n",
    "        \n",
    "        \n",
    "    def details(self):\n",
    "        information:str = f\"\"\"\n",
    "        Contact us at {self.help_line} or visit our website at {self.website}\n",
    "        \"\"\"\n",
    "        print(information)\n",
    "\n",
    "veh_1: Vehicle = Vehicle(\"BMW\",\"bmw23\",2023)\n",
    "print(f\"This vehical brand is {veh_1.brand}, \\nit's model is {veh_1.model} \\nand build in year {veh_1.year}\") \n",
    "veh_1.isSUV(\"SUV\") \n",
    "\n",
    "#Calling class variable from \"detail\" method\n",
    "veh_1.details()  \n",
    "veh_1.counter\n",
    "  "
   ]
  },
  {
   "cell_type": "code",
   "execution_count": 24,
   "metadata": {},
   "outputs": [
    {
     "data": {
      "text/plain": [
       "2"
      ]
     },
     "execution_count": 24,
     "metadata": {},
     "output_type": "execute_result"
    }
   ],
   "source": [
    "\n",
    "veh_2: Vehicle = Vehicle(\"Tesla\",\"tsla23\",2020)\n",
    "veh_2.counter\n"
   ]
  },
  {
   "cell_type": "markdown",
   "metadata": {},
   "source": [
    "## Inheritence in Python Class"
   ]
  },
  {
   "cell_type": "code",
   "execution_count": 29,
   "metadata": {},
   "outputs": [
    {
     "name": "stdout",
     "output_type": "stream",
     "text": [
      "Fortuner Petrol 4\n"
     ]
    }
   ],
   "source": [
    "class Transport():\n",
    "    def __init__(self,wheeler:int,fuel) -> None:\n",
    "        self.wheeler:int = wheeler\n",
    "        self.fuel:str = fuel\n",
    "        \n",
    "\n",
    "\n",
    "class Suv(Transport):\n",
    "    def __init__(self, wheeler: int, fuel:str,name:str) -> None:\n",
    "        super().__init__(wheeler, fuel)\n",
    "        self.wheeler:int = wheeler\n",
    "        self.fuel:str = fuel\n",
    "        self.name:str = name\n",
    "        \n",
    "        \n",
    "my_car: Suv= Suv(4,\"Petrol\",\"Fortuner\")\n",
    "print(my_car.name, my_car.fuel,my_car.wheeler)"
   ]
  }
 ],
 "metadata": {
  "kernelspec": {
   "display_name": "python12",
   "language": "python",
   "name": "python3"
  },
  "language_info": {
   "codemirror_mode": {
    "name": "ipython",
    "version": 3
   },
   "file_extension": ".py",
   "mimetype": "text/x-python",
   "name": "python",
   "nbconvert_exporter": "python",
   "pygments_lexer": "ipython3",
   "version": "3.12.0"
  }
 },
 "nbformat": 4,
 "nbformat_minor": 2
}
