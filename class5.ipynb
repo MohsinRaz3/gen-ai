{
 "cells": [
  {
   "cell_type": "markdown",
   "metadata": {},
   "source": [
    "# List and Loops"
   ]
  },
  {
   "cell_type": "code",
   "execution_count": 1,
   "metadata": {},
   "outputs": [
    {
     "name": "stdout",
     "output_type": "stream",
     "text": [
      "['Ahsan', 'Mohsin', 'Faisal', 'Haider', 'Fahad']\n"
     ]
    }
   ],
   "source": [
    "names: list[str] = [\"Ahsan\", \"Mohsin\",\"Faisal\",\"Haider\",\"Fahad\"]\n",
    "print(names)"
   ]
  },
  {
   "cell_type": "code",
   "execution_count": 2,
   "metadata": {},
   "outputs": [
    {
     "name": "stdout",
     "output_type": "stream",
     "text": [
      "Ahsan\n",
      "Mohsin\n",
      "Faisal\n",
      "Haider\n",
      "Fahad\n"
     ]
    }
   ],
   "source": [
    "for name in names:\n",
    "    print(name)"
   ]
  },
  {
   "cell_type": "code",
   "execution_count": 18,
   "metadata": {},
   "outputs": [
    {
     "name": "stdout",
     "output_type": "stream",
     "text": [
      "{'These are intelligent people': {'Ahsan'}}\n",
      "{'These are intelligent people': {'Mohsin'}}\n",
      "{'These are intelligent people': {'Faisal'}}\n",
      "{'These are intelligent people': {'Haider'}}\n",
      "{'These are intelligent people': {'Fahad'}}\n"
     ]
    }
   ],
   "source": [
    "for name in names:\n",
    "    intPeople: list[str] = {\"These are intelligent people\" : {name}}\n",
    "    print(intPeople)\n"
   ]
  },
  {
   "cell_type": "code",
   "execution_count": 22,
   "metadata": {},
   "outputs": [
    {
     "name": "stdout",
     "output_type": "stream",
     "text": [
      "Ahsan\n",
      "Mohsin\n",
      "Faisal\n",
      "Haider\n",
      "Fahad\n",
      "finish counting\n"
     ]
    }
   ],
   "source": [
    "for name in names:\n",
    "    print(name)\n",
    "else:\n",
    "    print(\"finish counting\")"
   ]
  },
  {
   "cell_type": "markdown",
   "metadata": {},
   "source": [
    "# List Comprehension"
   ]
  },
  {
   "cell_type": "code",
   "execution_count": 24,
   "metadata": {},
   "outputs": [
    {
     "name": "stdout",
     "output_type": "stream",
     "text": [
      "['Faisal', 'Fahad']\n"
     ]
    }
   ],
   "source": [
    "newNames: list[str]= [x for x in names if \"F\" in x] \n",
    "print(newNames)"
   ]
  },
  {
   "cell_type": "code",
   "execution_count": 32,
   "metadata": {},
   "outputs": [
    {
     "name": "stdout",
     "output_type": "stream",
     "text": [
      "['bakri', 'Bandar']\n"
     ]
    }
   ],
   "source": [
    "janwar: list[str] = [\"bakri\",\"khargosh\",\"Bandar\",\"zardari\"]\n",
    "\n",
    "makhsos_janwar: list[str] = [x for x in janwar if \"b\" in x.lower()]\n",
    "print(makhsos_janwar)"
   ]
  },
  {
   "cell_type": "code",
   "execution_count": 45,
   "metadata": {},
   "outputs": [
    {
     "name": "stdout",
     "output_type": "stream",
     "text": [
      "Mashoor janwar Bakri\n",
      "Qoumi janwar \n",
      "\n",
      "Mashoor janwar Khargosh\n",
      "Qoumi janwar \n",
      "\n",
      "Mashoor janwar Bandar\n",
      "Qoumi janwar \n",
      "\n",
      "Mashoor janwar Zardari\n",
      "Qoumi janwar \n",
      "\n"
     ]
    }
   ],
   "source": [
    "for jan in janwar:\n",
    "    print(f'Mashoor janwar {jan.title()}')\n",
    "    print(\"Qoumi janwar \\n\")"
   ]
  },
  {
   "cell_type": "markdown",
   "metadata": {},
   "source": [
    "# Tuples in Python"
   ]
  },
  {
   "cell_type": "code",
   "execution_count": 36,
   "metadata": {},
   "outputs": [
    {
     "name": "stdout",
     "output_type": "stream",
     "text": [
      "(1, 2, 3, 4, 5)\n"
     ]
    }
   ],
   "source": [
    "my_tuple = (1,2,3,4,5)\n",
    "print(my_tuple)\n"
   ]
  },
  {
   "cell_type": "markdown",
   "metadata": {},
   "source": [
    "# Tuple Example as Database"
   ]
  },
  {
   "cell_type": "code",
   "execution_count": 46,
   "metadata": {},
   "outputs": [
    {
     "name": "stdout",
     "output_type": "stream",
     "text": [
      "('mohsin', '123')\n",
      "('ahsan', '321')\n"
     ]
    }
   ],
   "source": [
    "database: list[tuple[str,str]] = [(\"mohsin\", \"123\"),(\"ahsan\",\"321\")]\n",
    "for data in database:\n",
    "    print(data)"
   ]
  },
  {
   "cell_type": "markdown",
   "metadata": {},
   "source": [
    "## Destructure in tuple"
   ]
  },
  {
   "cell_type": "code",
   "execution_count": 53,
   "metadata": {},
   "outputs": [
    {
     "name": "stdout",
     "output_type": "stream",
     "text": [
      "Your username is: mohsin \n",
      "your password is: 123 \n",
      "\n",
      "Your username is: ahsan \n",
      "your password is: 321 \n",
      "\n"
     ]
    }
   ],
   "source": [
    "database: list[tuple[str,str]] = [(\"mohsin\", \"123\"),(\"ahsan\",\"321\")]\n",
    "for data in database:\n",
    "    username , password = data\n",
    "    print(f\"Your username is: {username} \\nyour password is: {password} \\n\")"
   ]
  },
  {
   "cell_type": "code",
   "execution_count": 57,
   "metadata": {},
   "outputs": [
    {
     "name": "stdout",
     "output_type": "stream",
     "text": [
      "whats happening\n"
     ]
    }
   ],
   "source": [
    "user_input: str = input(\"enter your input dear\")\n",
    "print(user_input)"
   ]
  },
  {
   "cell_type": "code",
   "execution_count": 69,
   "metadata": {},
   "outputs": [
    {
     "name": "stdout",
     "output_type": "stream",
     "text": [
      "Permission granted! to mohsin\n"
     ]
    }
   ],
   "source": [
    "user_database: list[tuple[str,str]] = [(\"mohsin\",\"123\"), (\"ahsan\",\"321\"), (\"faisal\",\"333\")]\n",
    "\n",
    "user_name:str = input(\"Please enter your name here: \")\n",
    "user_password:str = input(\"Please enter password here: \")\n",
    "\n",
    "for data in user_database:\n",
    "    name, password = data\n",
    "    if user_name == name and user_password == password:\n",
    "        print(f\"Permission granted! to {name}\")\n",
    "        break\n",
    "    else:\n",
    "        print(f\"Invalid user {name}\")\n",
    "        break"
   ]
  },
  {
   "cell_type": "code",
   "execution_count": 70,
   "metadata": {},
   "outputs": [
    {
     "name": "stdout",
     "output_type": "stream",
     "text": [
      "That was a great trick alice\n",
      "That was a great trick tina\n",
      "That was a great trick bruce\n",
      "Thank you all for coming to magic show!\n"
     ]
    }
   ],
   "source": [
    "magicians: list[str] = [\"alice\",\"tina\", \"bruce\"]\n",
    "for maigician in magicians:\n",
    "    print(f\"That was a great trick {maigician}\")\n",
    "print(\"Thank you all for coming to magic show!\")"
   ]
  },
  {
   "cell_type": "code",
   "execution_count": 74,
   "metadata": {},
   "outputs": [
    {
     "data": {
      "text/plain": [
       "[(0, 'alice'), (1, 'tina'), (2, 'bruce')]"
      ]
     },
     "execution_count": 74,
     "metadata": {},
     "output_type": "execute_result"
    }
   ],
   "source": [
    "magicians: list[str] = [\"alice\",\"tina\", \"bruce\"]\n",
    "list(enumerate(magicians))"
   ]
  },
  {
   "cell_type": "code",
   "execution_count": 77,
   "metadata": {},
   "outputs": [
    {
     "name": "stdout",
     "output_type": "stream",
     "text": [
      "0 alice\n",
      "1 tina\n",
      "2 bruce\n"
     ]
    }
   ],
   "source": [
    "for index, name in list(enumerate(magicians)):\n",
    "    print(index, name)"
   ]
  },
  {
   "cell_type": "markdown",
   "metadata": {},
   "source": [
    "# Numbers with Loop\n",
    "### range(start, end, steps)"
   ]
  },
  {
   "cell_type": "code",
   "execution_count": 81,
   "metadata": {},
   "outputs": [
    {
     "data": {
      "text/plain": [
       "range(0, 5)"
      ]
     },
     "execution_count": 81,
     "metadata": {},
     "output_type": "execute_result"
    }
   ],
   "source": [
    "range(5)"
   ]
  },
  {
   "cell_type": "code",
   "execution_count": 82,
   "metadata": {},
   "outputs": [
    {
     "data": {
      "text/plain": [
       "[0, 1, 2, 3, 4]"
      ]
     },
     "execution_count": 82,
     "metadata": {},
     "output_type": "execute_result"
    }
   ],
   "source": [
    "list(range(5))"
   ]
  },
  {
   "cell_type": "code",
   "execution_count": 83,
   "metadata": {},
   "outputs": [
    {
     "data": {
      "text/plain": [
       "[0, 1, 2, 3, 4, 5, 6, 7, 8, 9]"
      ]
     },
     "execution_count": 83,
     "metadata": {},
     "output_type": "execute_result"
    }
   ],
   "source": [
    "list(range(0,10))"
   ]
  },
  {
   "cell_type": "code",
   "execution_count": 84,
   "metadata": {},
   "outputs": [
    {
     "data": {
      "text/plain": [
       "[0, 2, 4, 6, 8]"
      ]
     },
     "execution_count": 84,
     "metadata": {},
     "output_type": "execute_result"
    }
   ],
   "source": [
    "list(range(0,10,2))"
   ]
  },
  {
   "cell_type": "code",
   "execution_count": 85,
   "metadata": {},
   "outputs": [
    {
     "name": "stdout",
     "output_type": "stream",
     "text": [
      "0\n",
      "2\n",
      "4\n",
      "6\n",
      "8\n"
     ]
    }
   ],
   "source": [
    "for x in range(0,10,2):\n",
    "    print(x)"
   ]
  },
  {
   "cell_type": "markdown",
   "metadata": {},
   "source": [
    "# 2 ka Pahara"
   ]
  },
  {
   "cell_type": "code",
   "execution_count": 92,
   "metadata": {},
   "outputs": [
    {
     "name": "stdout",
     "output_type": "stream",
     "text": [
      "2 x 1 = 2\n",
      "2 x 2 = 4\n",
      "2 x 3 = 6\n",
      "2 x 4 = 8\n",
      "2 x 5 = 10\n",
      "2 x 6 = 12\n",
      "2 x 7 = 14\n",
      "2 x 8 = 16\n",
      "2 x 9 = 18\n",
      "2 x 10 = 20\n"
     ]
    }
   ],
   "source": [
    "for a in range(1,11):\n",
    "    print(f\"2 x {a} = {2 * a}\")"
   ]
  },
  {
   "cell_type": "markdown",
   "metadata": {},
   "source": [
    "## Square values Append"
   ]
  },
  {
   "cell_type": "code",
   "execution_count": 102,
   "metadata": {},
   "outputs": [
    {
     "name": "stdout",
     "output_type": "stream",
     "text": [
      "[1, 4, 9, 16, 25]\n"
     ]
    }
   ],
   "source": [
    "squares: list[int] = []\n",
    "\n",
    "for x in range(1,6):\n",
    "    square = x ** 2\n",
    "    squares.append(square)\n",
    "print(squares)"
   ]
  },
  {
   "cell_type": "code",
   "execution_count": 106,
   "metadata": {},
   "outputs": [
    {
     "data": {
      "text/plain": [
       "[0, 4, 16, 36, 64]"
      ]
     },
     "execution_count": 106,
     "metadata": {},
     "output_type": "execute_result"
    }
   ],
   "source": [
    "[i**2 for i in range(0,10,2)]"
   ]
  },
  {
   "cell_type": "code",
   "execution_count": 107,
   "metadata": {},
   "outputs": [
    {
     "name": "stdout",
     "output_type": "stream",
     "text": [
      "10\n",
      "1\n",
      "55\n"
     ]
    }
   ],
   "source": [
    "digits:list[int]= [1,2,3,4,5,6,7,8,9,10]\n",
    "print(max(digits))\n",
    "print(min(digits))\n",
    "print(sum(digits))"
   ]
  },
  {
   "cell_type": "code",
   "execution_count": 110,
   "metadata": {},
   "outputs": [
    {
     "name": "stdout",
     "output_type": "stream",
     "text": [
      "['fish', 'kebab', 'samosa']\n",
      "['fish', 'kebab', 'samosa']\n",
      "['tikka', 'kebab', 'samosa']\n",
      "['fish', 'kebab', 'samosa']\n"
     ]
    }
   ],
   "source": [
    "my_food:list[str] = [\"fish\", \"kebab\", \"samosa\"]\n",
    "friend_food:list[str] = my_food[:] #deep copy\n",
    "\n",
    "print(my_food)\n",
    "print(friend_food)\n",
    "\n",
    "friend_food[0]= \"tikka\"\n",
    "print(friend_food)\n",
    "print(my_food)\n",
    "\n"
   ]
  },
  {
   "cell_type": "markdown",
   "metadata": {},
   "source": [
    "## Tuples"
   ]
  },
  {
   "cell_type": "code",
   "execution_count": 119,
   "metadata": {},
   "outputs": [
    {
     "name": "stdout",
     "output_type": "stream",
     "text": [
      "mohsin\n",
      "('mohsin', 'ahsan', 'faisal')\n"
     ]
    }
   ],
   "source": [
    "name: tuple[str] = (\"mohsin\",\"ahsan\",\"faisal\")\n",
    "print(name[0])\n",
    "print(name[0:3])"
   ]
  },
  {
   "cell_type": "code",
   "execution_count": 120,
   "metadata": {},
   "outputs": [
    {
     "name": "stdout",
     "output_type": "stream",
     "text": [
      "mohsin\n"
     ]
    },
    {
     "ename": "TypeError",
     "evalue": "'tuple' object does not support item assignment",
     "output_type": "error",
     "traceback": [
      "\u001b[0;31m---------------------------------------------------------------------------\u001b[0m",
      "\u001b[0;31mTypeError\u001b[0m                                 Traceback (most recent call last)",
      "\u001b[1;32m/home/mrk/Desktop/modern-python/class5.ipynb Cell 36\u001b[0m line \u001b[0;36m3\n\u001b[1;32m      <a href='vscode-notebook-cell:/home/mrk/Desktop/modern-python/class5.ipynb#X52sZmlsZQ%3D%3D?line=0'>1</a>\u001b[0m name: \u001b[39mtuple\u001b[39m[\u001b[39mstr\u001b[39m] \u001b[39m=\u001b[39m (\u001b[39m\"\u001b[39m\u001b[39mmohsin\u001b[39m\u001b[39m\"\u001b[39m,\u001b[39m\"\u001b[39m\u001b[39mahsan\u001b[39m\u001b[39m\"\u001b[39m,\u001b[39m\"\u001b[39m\u001b[39mfaisal\u001b[39m\u001b[39m\"\u001b[39m)\n\u001b[1;32m      <a href='vscode-notebook-cell:/home/mrk/Desktop/modern-python/class5.ipynb#X52sZmlsZQ%3D%3D?line=1'>2</a>\u001b[0m \u001b[39mprint\u001b[39m(name[\u001b[39m0\u001b[39m])\n\u001b[0;32m----> <a href='vscode-notebook-cell:/home/mrk/Desktop/modern-python/class5.ipynb#X52sZmlsZQ%3D%3D?line=2'>3</a>\u001b[0m name[\u001b[39m0\u001b[39;49m] \u001b[39m=\u001b[39m (\u001b[39m\"\u001b[39m\u001b[39mpakistan\u001b[39m\u001b[39m\"\u001b[39m)\n",
      "\u001b[0;31mTypeError\u001b[0m: 'tuple' object does not support item assignment"
     ]
    }
   ],
   "source": [
    "name: tuple[str] = (\"mohsin\",\"ahsan\",\"faisal\")\n",
    "print(name[0])\n",
    "name[0] = (\"pakistan\")\n"
   ]
  },
  {
   "cell_type": "code",
   "execution_count": 123,
   "metadata": {},
   "outputs": [
    {
     "name": "stdout",
     "output_type": "stream",
     "text": [
      "('Mohsin', [1, 2, 3], True, 3)\n"
     ]
    }
   ],
   "source": [
    "from typing import Any\n",
    "\n",
    "kabar: tuple[Any] = (\"Mohsin\", [1,2,3], True,3)\n",
    "print(kabar)"
   ]
  },
  {
   "cell_type": "code",
   "execution_count": 124,
   "metadata": {},
   "outputs": [
    {
     "name": "stdout",
     "output_type": "stream",
     "text": [
      "('Mohsin', [1, 2, 3, 4], True, 3)\n"
     ]
    }
   ],
   "source": [
    "kabar[1].append(4)\n",
    "print(kabar)"
   ]
  }
 ],
 "metadata": {
  "kernelspec": {
   "display_name": "python12",
   "language": "python",
   "name": "python3"
  },
  "language_info": {
   "codemirror_mode": {
    "name": "ipython",
    "version": 3
   },
   "file_extension": ".py",
   "mimetype": "text/x-python",
   "name": "python",
   "nbconvert_exporter": "python",
   "pygments_lexer": "ipython3",
   "version": "3.12.0"
  }
 },
 "nbformat": 4,
 "nbformat_minor": 2
}
