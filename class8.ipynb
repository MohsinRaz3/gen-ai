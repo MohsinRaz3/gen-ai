{
 "cells": [
  {
   "cell_type": "markdown",
   "metadata": {},
   "source": [
    "# Loop in Python\n",
    "* For Loop\n",
    "* While Loop\n",
    " ## Controls\n",
    " * Break \n",
    " * Continue\n",
    " * Pass\n"
   ]
  },
  {
   "cell_type": "code",
   "execution_count": 1,
   "metadata": {},
   "outputs": [
    {
     "name": "stdout",
     "output_type": "stream",
     "text": [
      "mohsin\n",
      "ahsan\n",
      "faisal\n"
     ]
    }
   ],
   "source": [
    "names: list[str] = [\"mohsin\",\"ahsan\",\"faisal\"]\n",
    "\n",
    "for name in names:\n",
    "    print(name)"
   ]
  },
  {
   "cell_type": "markdown",
   "metadata": {},
   "source": [
    "# While loop in Python"
   ]
  },
  {
   "cell_type": "code",
   "execution_count": 19,
   "metadata": {},
   "outputs": [
    {
     "name": "stdout",
     "output_type": "stream",
     "text": [
      "1\n",
      "2\n",
      "3\n",
      "4\n",
      "5\n"
     ]
    }
   ],
   "source": [
    "counter = 1\n",
    "flag = True\n",
    "\n",
    "while flag:\n",
    "    print(counter)\n",
    "    counter+= 1\n",
    "    \n",
    "    if counter == 6:\n",
    "        flag = False\n",
    "        break\n",
    "    "
   ]
  },
  {
   "cell_type": "code",
   "execution_count": 1,
   "metadata": {},
   "outputs": [
    {
     "data": {
      "text/plain": [
       "[]"
      ]
     },
     "metadata": {},
     "output_type": "display_data"
    }
   ],
   "source": [
    "from typing import Dict\n",
    "\n",
    "flag: bool = True\n",
    "data: list[dict[str,str]]\n",
    "\n",
    "while flag:\n",
    "    print(\"Write close or quit to exit programe\")\n",
    "    name:str = input(\"enter your good name /t\")\n",
    "    edu:str = input(\"enetr your eductaion\")\n",
    "    \n",
    "    if name in [\"exit\", \"colse\", \"Close\", \"quit\", \"Quit\"] or edu in [\"exit\", \"colse\", \"Close\", \"quit\", \"Quit\"]:\n",
    "        flag =False\n",
    "        break\n",
    "    data.append({\n",
    "            \"name\": name,\n",
    "            \"education\": edu\n",
    "        })\n",
    "    "
   ]
  },
  {
   "cell_type": "code",
   "execution_count": 4,
   "metadata": {},
   "outputs": [
    {
     "data": {
      "text/plain": [
       "[21, 54, 6, 54, 3, 36, 33]"
      ]
     },
     "execution_count": 4,
     "metadata": {},
     "output_type": "execute_result"
    }
   ],
   "source": [
    "data: list[int] = [21,34,54,5,6,54,3,53,44,36,33,4,5,35]\n",
    "# i is divisible with 3\n",
    "[i for i in data if i%3==0]"
   ]
  },
  {
   "cell_type": "code",
   "execution_count": 6,
   "metadata": {},
   "outputs": [
    {
     "name": "stdout",
     "output_type": "stream",
     "text": [
      "3\n",
      "5\n",
      "7\n",
      "9\n"
     ]
    }
   ],
   "source": [
    "current_count = 1\n",
    "\n",
    "while current_count < 10:\n",
    "    current_count +=1\n",
    "    #count is divisble 2 it gets ignored\n",
    "    if current_count % 2 ==0:\n",
    "        continue\n",
    "    print(current_count)"
   ]
  },
  {
   "cell_type": "code",
   "execution_count": 3,
   "metadata": {},
   "outputs": [
    {
     "name": "stdout",
     "output_type": "stream",
     "text": [
      "ok\n",
      "why\n",
      "new\n",
      "k bye\n"
     ]
    }
   ],
   "source": [
    "active = True\n",
    "\n",
    "while active:\n",
    "    prompt = \"Tell me anything, I'll repeat after you!\"\n",
    "    message = input(prompt)\n",
    "\n",
    "    if message.lower() == \"quit\":  # Use lower() to make the comparison case-insensitive\n",
    "        active = False\n",
    "    else:\n",
    "        print(message)\n"
   ]
  },
  {
   "cell_type": "code",
   "execution_count": 12,
   "metadata": {},
   "outputs": [
    {
     "name": "stdout",
     "output_type": "stream",
     "text": [
      "['javascript', 'java', 'go', 'rust', 'solidity', 'python']\n",
      "['javascript', 'java', 'go', 'rust', 'solidity']\n"
     ]
    }
   ],
   "source": [
    "languages: list[str] = [\"javascript\",\"python\",\"java\", \"go\", \"rust\",\"solidity\",\"python\"]\n",
    "\n",
    "while \"python\" in languages:\n",
    "    languages.remove('python')\n",
    "    print(languages)"
   ]
  }
 ],
 "metadata": {
  "kernelspec": {
   "display_name": "python12",
   "language": "python",
   "name": "python3"
  },
  "language_info": {
   "codemirror_mode": {
    "name": "ipython",
    "version": 3
   },
   "file_extension": ".py",
   "mimetype": "text/x-python",
   "name": "python",
   "nbconvert_exporter": "python",
   "pygments_lexer": "ipython3",
   "version": "3.12.0"
  }
 },
 "nbformat": 4,
 "nbformat_minor": 2
}
