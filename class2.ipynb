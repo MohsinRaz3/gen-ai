{
 "cells": [
  {
   "cell_type": "markdown",
   "metadata": {},
   "source": [
    "# String Data type in Python"
   ]
  },
  {
   "cell_type": "code",
   "execution_count": 7,
   "metadata": {},
   "outputs": [
    {
     "name": "stdout",
     "output_type": "stream",
     "text": [
      "\n",
      "Full Name: Mohsin Raz\n",
      "Father Name: NRKhan\n",
      "Quarter: 4\n",
      "Course Name: metaverse & web3 developer\n",
      "\n",
      "\n",
      "sir zia's vision is to bring tech revolution in pakistan and making every pakistani financially independent.\n"
     ]
    }
   ],
   "source": [
    "name: str = \"Mohsin Raz\"\n",
    "fname: str = 'NRKhan'\n",
    "quarter: int = 4\n",
    "course: str = \"metaverse & web3 developer\"\n",
    "\n",
    "card: str = \"\\nFull Name: \" + str(name) + \"\\nFather Name: \" + str(fname) + \"\\nQuarter: \" + str(quarter) + \"\\nCourse Name: \" + str(course)\n",
    "print(card)\n",
    "\n",
    "happy_note: str = '\\n\\nsir zia\\'s vision is to bring tech revolution in pakistan and making every pakistani financially independent.'\n",
    "print(happy_note)"
   ]
  },
  {
   "cell_type": "markdown",
   "metadata": {},
   "source": [
    "# \"\\ \" Continue Line "
   ]
  },
  {
   "cell_type": "code",
   "execution_count": 3,
   "metadata": {},
   "outputs": [
    {
     "name": "stdout",
     "output_type": "stream",
     "text": [
      "10\n"
     ]
    }
   ],
   "source": [
    "print( 3 + \\\n",
    "       2 + \\\n",
    "       5)"
   ]
  },
  {
   "cell_type": "markdown",
   "metadata": {},
   "source": [
    "# Define Multiline string \"\"\" \"\"\", ''' '''"
   ]
  },
  {
   "cell_type": "code",
   "execution_count": 6,
   "metadata": {},
   "outputs": [
    {
     "name": "stdout",
     "output_type": "stream",
     "text": [
      " \n",
      "Full Name: + Mohsin Raz  \n",
      "Father Name: NRKhan \n",
      "Quarter:  4 \n",
      "Course Name:  metaverse & web3 developer\n"
     ]
    }
   ],
   "source": [
    "name: str = \"Mohsin Raz\"\n",
    "fname: str = 'NRKhan'\n",
    "quarter: int = 4\n",
    "course: str = \"metaverse & web3 developer\"\n",
    "\n",
    "card: str = f\"\"\" \n",
    "Full Name:  {name}  \n",
    "Father Name: {fname} \n",
    "Quarter:  {quarter} \n",
    "Course Name:  {course}\"\"\"\n",
    "\n",
    "print(card)"
   ]
  },
  {
   "cell_type": "markdown",
   "metadata": {},
   "source": [
    "# Old fashion f-string"
   ]
  },
  {
   "cell_type": "code",
   "execution_count": 8,
   "metadata": {},
   "outputs": [
    {
     "name": "stdout",
     "output_type": "stream",
     "text": [
      " \n",
      "Full Name: Mohsin Raz    \n",
      "Father Name: NRKhan \n",
      "Quarter:   4\n",
      "Course Name: metaverse & web3 developer\n",
      "\n",
      "\n"
     ]
    }
   ],
   "source": [
    "name: str = \"Mohsin Raz\"\n",
    "fname: str = 'NRKhan'\n",
    "quarter: int = 4\n",
    "course: str = \"metaverse & web3 developer\"\n",
    "\n",
    "card: str = \"\"\" \n",
    "Full Name: %s    \n",
    "Father Name: %s \n",
    "Quarter:   %d\n",
    "Course Name: %s\n",
    "\n",
    "\"\"\" %(name, fname, quarter, course)\n",
    "\n",
    "print(card)"
   ]
  },
  {
   "cell_type": "markdown",
   "metadata": {},
   "source": [
    "# Methods for Strings"
   ]
  },
  {
   "cell_type": "code",
   "execution_count": 10,
   "metadata": {},
   "outputs": [
    {
     "data": {
      "text/plain": [
       "['capitalize',\n",
       " 'casefold',\n",
       " 'center',\n",
       " 'count',\n",
       " 'encode',\n",
       " 'endswith',\n",
       " 'expandtabs',\n",
       " 'find',\n",
       " 'format',\n",
       " 'format_map',\n",
       " 'index',\n",
       " 'isalnum',\n",
       " 'isalpha',\n",
       " 'isascii',\n",
       " 'isdecimal',\n",
       " 'isdigit',\n",
       " 'isidentifier',\n",
       " 'islower',\n",
       " 'isnumeric',\n",
       " 'isprintable',\n",
       " 'isspace',\n",
       " 'istitle',\n",
       " 'isupper',\n",
       " 'join',\n",
       " 'ljust',\n",
       " 'lower',\n",
       " 'lstrip',\n",
       " 'maketrans',\n",
       " 'partition',\n",
       " 'removeprefix',\n",
       " 'removesuffix',\n",
       " 'replace',\n",
       " 'rfind',\n",
       " 'rindex',\n",
       " 'rjust',\n",
       " 'rpartition',\n",
       " 'rsplit',\n",
       " 'rstrip',\n",
       " 'split',\n",
       " 'splitlines',\n",
       " 'startswith',\n",
       " 'strip',\n",
       " 'swapcase',\n",
       " 'title',\n",
       " 'translate',\n",
       " 'upper',\n",
       " 'zfill']"
      ]
     },
     "execution_count": 10,
     "metadata": {},
     "output_type": "execute_result"
    }
   ],
   "source": [
    "#list comprehensive\n",
    "[i for i in dir(str) if \"__\" not in i]"
   ]
  },
  {
   "cell_type": "code",
   "execution_count": 12,
   "metadata": {},
   "outputs": [
    {
     "name": "stdout",
     "output_type": "stream",
     "text": [
      "MOHSIN RAZ \n",
      "Mohsin raz \n",
      "mohsin raz \n"
     ]
    }
   ],
   "source": [
    "name: str = \"mOhSiN rAz \"\n",
    "print(name.upper())\n",
    "print(name.capitalize())\n",
    "print(name.lower())"
   ]
  },
  {
   "cell_type": "code",
   "execution_count": 19,
   "metadata": {},
   "outputs": [
    {
     "name": "stdout",
     "output_type": "stream",
     "text": [
      "my first name is: MOHSIN and last name is: RAZ\n"
     ]
    }
   ],
   "source": [
    "fname: str = \"MOHSIN\"\n",
    "lname: str = \"RAZ\"\n",
    "\n",
    "fullname:str = \"\"\"my first name is: {} and last name is: {}\"\"\".format(fname,lname)\n",
    "print(fullname)"
   ]
  },
  {
   "cell_type": "code",
   "execution_count": 23,
   "metadata": {},
   "outputs": [
    {
     "name": "stdout",
     "output_type": "stream",
     "text": [
      "my first name is: MOHSIN and last name is: RAZ\n"
     ]
    }
   ],
   "source": [
    "# PALCE VARIABLE VIA INDEXING\n",
    "fname: str = \"MOHSIN\"\n",
    "lname: str = \"RAZ\"\n",
    "\n",
    "fullname:str = \"\"\"my first name is: {a} and last name is: {b}\"\"\".format(b=lname,a=fname)\n",
    "print(fullname)"
   ]
  },
  {
   "cell_type": "markdown",
   "metadata": {},
   "source": [
    "# String Methods & Attributes"
   ]
  },
  {
   "cell_type": "code",
   "execution_count": 28,
   "metadata": {},
   "outputs": [
    {
     "data": {
      "text/plain": [
       "'   mohsin raz  '"
      ]
     },
     "metadata": {},
     "output_type": "display_data"
    },
    {
     "data": {
      "text/plain": [
       "'mohsin Raz'"
      ]
     },
     "metadata": {},
     "output_type": "display_data"
    }
   ],
   "source": [
    "name: str = \"   mohsin Raz  \"\n",
    "display(name.casefold()) # casefold does same thing as lower() but casefold is stronger.\n",
    "display(name.lstrip().rstrip()) # lstrip() rstrip() = strip()  removes whitespaces"
   ]
  },
  {
   "cell_type": "markdown",
   "metadata": {},
   "source": [
    "# RegEx method in Python"
   ]
  },
  {
   "cell_type": "code",
   "execution_count": 32,
   "metadata": {},
   "outputs": [
    {
     "data": {
      "text/plain": [
       "'             moh$in is               a goOd programmer          '"
      ]
     },
     "metadata": {},
     "output_type": "display_data"
    },
    {
     "data": {
      "text/plain": [
       "' moh$in is a goOd programmer '"
      ]
     },
     "metadata": {},
     "output_type": "display_data"
    }
   ],
   "source": [
    "import re\n",
    "\n",
    "name: str = \"             moh$in is               a goOd programmer          \"\n",
    "display(name)\n",
    "\n",
    "u_name: str = re.sub(' {2,100}',' ', name)\n",
    "display(u_name)"
   ]
  }
 ],
 "metadata": {
  "kernelspec": {
   "display_name": "python12",
   "language": "python",
   "name": "python3"
  },
  "language_info": {
   "codemirror_mode": {
    "name": "ipython",
    "version": 3
   },
   "file_extension": ".py",
   "mimetype": "text/x-python",
   "name": "python",
   "nbconvert_exporter": "python",
   "pygments_lexer": "ipython3",
   "version": "3.12.0"
  }
 },
 "nbformat": 4,
 "nbformat_minor": 2
}
