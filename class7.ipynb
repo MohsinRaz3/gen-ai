{
 "cells": [
  {
   "cell_type": "markdown",
   "metadata": {},
   "source": [
    "# Dictionery in Python"
   ]
  },
  {
   "cell_type": "code",
   "execution_count": 13,
   "metadata": {},
   "outputs": [
    {
     "name": "stdout",
     "output_type": "stream",
     "text": [
      "Name not found\n",
      "['clear',\n",
      " 'copy',\n",
      " 'fromkeys',\n",
      " 'get',\n",
      " 'items',\n",
      " 'keys',\n",
      " 'pop',\n",
      " 'popitem',\n",
      " 'setdefault',\n",
      " 'update',\n",
      " 'values']\n"
     ]
    }
   ],
   "source": [
    "from typing import Dict\n",
    "import pprint\n",
    "\n",
    "user_data: Dict[str,str] = {\n",
    "    \"name\": \"Mohsin\",\n",
    "    \"batch\" : \"38\",\n",
    "    \"course\": \"WMD\",\n",
    "    \"year\": \"2022\"\n",
    "}\n",
    "\n",
    "\n",
    "print(user_data.get(\"namme\",\"Name not found\"))\n",
    "\n",
    "methods: list[str] = [m for m in dir(user_data) if \"__\" not in m]\n",
    "pprint.pprint(methods)\n"
   ]
  },
  {
   "cell_type": "markdown",
   "metadata": {},
   "source": [
    "# Type casting Data type"
   ]
  },
  {
   "cell_type": "code",
   "execution_count": 4,
   "metadata": {},
   "outputs": [
    {
     "name": "stdout",
     "output_type": "stream",
     "text": [
      "{123: 'Roll no',\n",
      " 'age': 28,\n",
      " 'batch': 2023,\n",
      " 'city': 'Karachi',\n",
      " 'course': 'WMD',\n",
      " 'name': 'Mohsin',\n",
      " 'profession': 'Developer'}\n"
     ]
    }
   ],
   "source": [
    "from typing import Union, Tuple, Dict , Union  \n",
    "import pprint\n",
    "\n",
    "Key = Union[str, int]\n",
    "Value = Union[str, int, bool]\n",
    "\n",
    "data: Dict[Key, Value] = {\n",
    "    \"name\": \"Mohsin\",\n",
    "    \"age\": 28,\n",
    "    \"batch\": 2022,\n",
    "    \"course\": \"WMD\",\n",
    "    123: \"Roll no\"\n",
    "}\n",
    "\n",
    "# UPDATE DATA \n",
    "data2: Dict[Key, Value] = {\n",
    "    \"city\": \"Karachi\",\n",
    "    \"profession\": \"Developer\",\n",
    "    \"batch\": 2023\n",
    "} \n",
    "\n",
    "data.update(data2)\n",
    "pprint.pprint(data)"
   ]
  },
  {
   "cell_type": "markdown",
   "metadata": {},
   "source": [
    "# Displying data in Pandas"
   ]
  },
  {
   "cell_type": "code",
   "execution_count": 7,
   "metadata": {},
   "outputs": [
    {
     "data": {
      "text/html": [
       "<div>\n",
       "<style scoped>\n",
       "    .dataframe tbody tr th:only-of-type {\n",
       "        vertical-align: middle;\n",
       "    }\n",
       "\n",
       "    .dataframe tbody tr th {\n",
       "        vertical-align: top;\n",
       "    }\n",
       "\n",
       "    .dataframe thead th {\n",
       "        text-align: right;\n",
       "    }\n",
       "</style>\n",
       "<table border=\"1\" class=\"dataframe\">\n",
       "  <thead>\n",
       "    <tr style=\"text-align: right;\">\n",
       "      <th></th>\n",
       "      <th>roll no</th>\n",
       "      <th>Name</th>\n",
       "      <th>education</th>\n",
       "    </tr>\n",
       "  </thead>\n",
       "  <tbody>\n",
       "    <tr>\n",
       "      <th>0</th>\n",
       "      <td>1</td>\n",
       "      <td>Mohsin</td>\n",
       "      <td>Bsc</td>\n",
       "    </tr>\n",
       "    <tr>\n",
       "      <th>1</th>\n",
       "      <td>2</td>\n",
       "      <td>Ahsan</td>\n",
       "      <td>Fsc</td>\n",
       "    </tr>\n",
       "    <tr>\n",
       "      <th>2</th>\n",
       "      <td>3</td>\n",
       "      <td>Faisal</td>\n",
       "      <td>SSC</td>\n",
       "    </tr>\n",
       "  </tbody>\n",
       "</table>\n",
       "</div>"
      ],
      "text/plain": [
       "   roll no    Name education\n",
       "0        1  Mohsin       Bsc\n",
       "1        2   Ahsan       Fsc\n",
       "2        3  Faisal       SSC"
      ]
     },
     "execution_count": 7,
     "metadata": {},
     "output_type": "execute_result"
    }
   ],
   "source": [
    "from typing import Dict, Union\n",
    "import pandas as pd \n",
    "\n",
    "Key = Union[str, int]\n",
    "Value = Union[str, int, bool]\n",
    "\n",
    "data:Dict[str, list[str,int]] = {\n",
    "    \"roll no\": [1,2,3],\n",
    "    \"Name\": [\"Mohsin\",\"Ahsan\",\"Faisal\"],\n",
    "    \"education\": [\"Bsc\", \"Fsc\",\"SSC\"]\n",
    "}\n",
    "\n",
    "df: pd.DataFrame = pd.DataFrame(data)\n",
    "df"
   ]
  },
  {
   "cell_type": "code",
   "execution_count": 56,
   "metadata": {},
   "outputs": [],
   "source": [
    "from typing import Dict\n",
    "\n",
    "fav_languages: Dict[str,str] = {\n",
    "    \"mohsin\": \"Python\",\n",
    "    \"ahsan\":\"javascript\",\n",
    "    \"Faisal\": \"lua\"\n",
    "}\n",
    "\n",
    "for name in fav_languages:\n",
    "    n = name.lower()\n",
    "    uprompt = input(\"who's fav language you're looking for?\")\n",
    "    if uprompt.lower() == n:\n",
    "        \n",
    "        print(f\" {uprompt} Favuorite language is {fav_languages[name]}\")\n",
    "        break"
   ]
  }
 ],
 "metadata": {
  "kernelspec": {
   "display_name": "py3_11",
   "language": "python",
   "name": "python3"
  },
  "language_info": {
   "codemirror_mode": {
    "name": "ipython",
    "version": 3
   },
   "file_extension": ".py",
   "mimetype": "text/x-python",
   "name": "python",
   "nbconvert_exporter": "python",
   "pygments_lexer": "ipython3",
   "version": "3.12.0"
  }
 },
 "nbformat": 4,
 "nbformat_minor": 2
}
