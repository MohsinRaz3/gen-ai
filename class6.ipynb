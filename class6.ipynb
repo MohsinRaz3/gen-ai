{
 "cells": [
  {
   "cell_type": "markdown",
   "metadata": {},
   "source": [
    "## If-Else condition\n"
   ]
  },
  {
   "cell_type": "code",
   "execution_count": 7,
   "metadata": {},
   "outputs": [
    {
     "name": "stdout",
     "output_type": "stream",
     "text": [
      "zindabhag\n"
     ]
    }
   ],
   "source": [
    "a: int = 3\n",
    "\n",
    "if a ==2:\n",
    "    print(\"pakistan\")\n",
    "else:\n",
    "    print(\"zindabhag\")"
   ]
  },
  {
   "cell_type": "code",
   "execution_count": 9,
   "metadata": {},
   "outputs": [
    {
     "name": "stdout",
     "output_type": "stream",
     "text": [
      "answer is 2\n"
     ]
    }
   ],
   "source": [
    "# True_Block            Logic_Here          Flase_block \n",
    "print(\"answer is 2\") if a == 3 else print(\"answer is false\")"
   ]
  },
  {
   "cell_type": "code",
   "execution_count": 12,
   "metadata": {},
   "outputs": [
    {
     "name": "stdout",
     "output_type": "stream",
     "text": [
      "ok bhag\n"
     ]
    }
   ],
   "source": [
    "if False:\n",
    "    print(\"pakistan\")\n",
    "elif False:\n",
    "    print(\"zindabagh\")\n",
    "elif False:\n",
    "    print(\"phir zindabagh\")\n",
    "elif True:\n",
    "    print(\"ok bhag\")\n",
    "elif True:\n",
    "    print(\"dubara phir zindabagh\")\n",
    "else:\n",
    "    print(\"bas bagh ja bhai\")\n"
   ]
  },
  {
   "cell_type": "code",
   "execution_count": 67,
   "metadata": {},
   "outputs": [
    {
     "name": "stdout",
     "output_type": "stream",
     "text": [
      "My email is MohsinRaz3@gmail.com\n"
     ]
    }
   ],
   "source": [
    "from typing import Dict, Union, Optional\n",
    "\n",
    "dictonary_itmes: Dict[int,Union[str,int]] = {\n",
    "    1: \"Mohsin\",\n",
    "    2: \"Raz\",\n",
    "    3: \"3@gmail.com\"\n",
    "}\n",
    "\n",
    "email:list[str] = list(dictonary_itmes.values())\n",
    "print(f\"My email is {\"\".join(email)}\")"
   ]
  },
  {
   "cell_type": "code",
   "execution_count": 37,
   "metadata": {},
   "outputs": [
    {
     "name": "stdout",
     "output_type": "stream",
     "text": [
      "{'These are intelligent people: Jane', 'These are intelligent people: Bob', 'These are intelligent people: John'}\n"
     ]
    }
   ],
   "source": [
    "names = [\"John\", \"Jane\", \"Bob\"]\n",
    "print({f\"These are intelligent people: {name}\" for name in names})"
   ]
  },
  {
   "cell_type": "code",
   "execution_count": 45,
   "metadata": {},
   "outputs": [
    {
     "name": "stdout",
     "output_type": "stream",
     "text": [
      "These are intelligent people: ('', '.join(names)}')\n"
     ]
    }
   ],
   "source": [
    "names_dict = {\"john\": \"John\", \"jane\": \"Jane\", \"bob\": \"Bob\"}\n",
    "names = list(names_dict.values())\n",
    "print(f'These are intelligent people: {\"\", \".join(names)}\"}')\n"
   ]
  }
 ],
 "metadata": {
  "kernelspec": {
   "display_name": "python12",
   "language": "python",
   "name": "python3"
  },
  "language_info": {
   "codemirror_mode": {
    "name": "ipython",
    "version": 3
   },
   "file_extension": ".py",
   "mimetype": "text/x-python",
   "name": "python",
   "nbconvert_exporter": "python",
   "pygments_lexer": "ipython3",
   "version": "3.12.0"
  }
 },
 "nbformat": 4,
 "nbformat_minor": 2
}
