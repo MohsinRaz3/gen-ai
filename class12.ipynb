{
 "cells": [
  {
   "cell_type": "markdown",
   "metadata": {},
   "source": [
    "## Quizz solution"
   ]
  },
  {
   "cell_type": "code",
   "execution_count": 11,
   "metadata": {},
   "outputs": [
    {
     "name": "stdout",
     "output_type": "stream",
     "text": [
      "300\n"
     ]
    }
   ],
   "source": [
    "import pandas as pd\n",
    "from pandas import Series\n",
    "\n",
    "series1: pd.Series = pd.Series([10,20,30,40,50])\n",
    "result:int = Series.sum(series1*2)\n",
    "print(result)"
   ]
  },
  {
   "cell_type": "code",
   "execution_count": 13,
   "metadata": {},
   "outputs": [
    {
     "name": "stdout",
     "output_type": "stream",
     "text": [
      "100\n",
      "150\n",
      "1000\n"
     ]
    }
   ],
   "source": [
    "class Sample:\n",
    "    x:int = 100\n",
    "    y:int =150\n",
    "    \n",
    "    \n",
    "class Newspapper(Sample):\n",
    "    x:int = 1000\n",
    "    \n",
    "    @staticmethod\n",
    "    def main()->None:\n",
    "        print(f\"{Sample.x}\\n{Sample.y}\\n{Newspapper.x}\")\n",
    "        \n",
    "        \n",
    "Newspapper.main()"
   ]
  },
  {
   "cell_type": "code",
   "execution_count": 17,
   "metadata": {},
   "outputs": [
    {
     "name": "stdout",
     "output_type": "stream",
     "text": [
      "1\n",
      "6\n",
      "11\n",
      "16\n",
      "21\n"
     ]
    }
   ],
   "source": [
    "for i in range(1,25,5):\n",
    "    print(f\"{i}\")"
   ]
  },
  {
   "cell_type": "code",
   "execution_count": 18,
   "metadata": {},
   "outputs": [
    {
     "name": "stdout",
     "output_type": "stream",
     "text": [
      "100\n"
     ]
    }
   ],
   "source": [
    "import pandas as pd\n",
    "from pandas import Series\n",
    "\n",
    "series1: pd.Series = pd.Series([10,20,30,40,50])\n",
    "result:int = Series.max(series1*2)\n",
    "print(result)"
   ]
  },
  {
   "cell_type": "markdown",
   "metadata": {},
   "source": [
    "36) notna"
   ]
  },
  {
   "cell_type": "code",
   "execution_count": 19,
   "metadata": {},
   "outputs": [
    {
     "name": "stdout",
     "output_type": "stream",
     "text": [
      "5.0\n"
     ]
    }
   ],
   "source": [
    "x: list[list[float]]= [[0.0,1.0,2.0],[4.0,5.0,6.0]]\n",
    "y: float = x[0][1] + x[1][0]\n",
    "\n",
    "print(y)"
   ]
  },
  {
   "cell_type": "code",
   "execution_count": 22,
   "metadata": {},
   "outputs": [
    {
     "ename": "AttributeError",
     "evalue": "'Mything' object has no attribute '__doSomething'",
     "output_type": "error",
     "traceback": [
      "\u001b[0;31m---------------------------------------------------------------------------\u001b[0m",
      "\u001b[0;31mAttributeError\u001b[0m                            Traceback (most recent call last)",
      "Cell \u001b[0;32mIn[22], line 10\u001b[0m\n\u001b[1;32m      7\u001b[0m         \u001b[38;5;28mself\u001b[39m\u001b[38;5;241m.\u001b[39m__doSomething();\n\u001b[1;32m      9\u001b[0m t \u001b[38;5;241m=\u001b[39m Mything()\n\u001b[0;32m---> 10\u001b[0m \u001b[43mt\u001b[49m\u001b[38;5;241;43m.\u001b[39;49m\u001b[43m__doSomething\u001b[49m()\n\u001b[1;32m     11\u001b[0m t\u001b[38;5;241m.\u001b[39mmyMethod\n",
      "\u001b[0;31mAttributeError\u001b[0m: 'Mything' object has no attribute '__doSomething'"
     ]
    }
   ],
   "source": [
    "class Thing:\n",
    "    def __doSomething(self)->None:\n",
    "        print(\"do something\")\n",
    "        \n",
    "class Mything(Thing):\n",
    "    def myMethod(self):\n",
    "        self.__doSomething();\n",
    "        \n",
    "t = Mything()\n",
    "t.__doSomething() #Error\n",
    "t.myMethod"
   ]
  },
  {
   "cell_type": "code",
   "execution_count": 23,
   "metadata": {},
   "outputs": [
    {
     "name": "stdout",
     "output_type": "stream",
     "text": [
      "1\n"
     ]
    }
   ],
   "source": [
    "class A:\n",
    "    def __init__(self):\n",
    "        self.x:int = 1\n",
    "        self.__y:int= 1\n",
    "        \n",
    "        def getY(self)->int:\n",
    "            return self.__y\n",
    "a = A()\n",
    "print(a._A__y)  # 1 ans you can access __y private variable if we name class private as _A"
   ]
  },
  {
   "cell_type": "code",
   "execution_count": 27,
   "metadata": {},
   "outputs": [
    {
     "data": {
      "text/plain": [
       "a    0.0\n",
       "b    1.0\n",
       "c    2.0\n",
       "d    3.0\n",
       "dtype: float64"
      ]
     },
     "execution_count": 27,
     "metadata": {},
     "output_type": "execute_result"
    }
   ],
   "source": [
    "obj: pd.Series = pd.Series(np.arange(4.0), index=[\"a\",\"b\",\"c\",'d'])\n",
    "obj\n"
   ]
  },
  {
   "cell_type": "code",
   "execution_count": 29,
   "metadata": {},
   "outputs": [
    {
     "name": "stdout",
     "output_type": "stream",
     "text": [
      "{1000}\n"
     ]
    }
   ],
   "source": [
    "def call(var1,var2,var3):\n",
    "    print({var1 *var2*var3})\n",
    "    \n",
    "    \n",
    "c = 10\n",
    "a =b=c    \n",
    "call(a,b,c)"
   ]
  },
  {
   "cell_type": "code",
   "execution_count": 31,
   "metadata": {},
   "outputs": [
    {
     "name": "stdout",
     "output_type": "stream",
     "text": [
      "python {1}\n",
      "python {2}\n",
      "python {3}\n",
      "python {4}\n"
     ]
    }
   ],
   "source": [
    "for i in range(1,5):\n",
    "    print(\"python\",{i})"
   ]
  },
  {
   "cell_type": "code",
   "execution_count": 35,
   "metadata": {},
   "outputs": [
    {
     "name": "stdout",
     "output_type": "stream",
     "text": [
      "jeloo {1}\n",
      "jeloo {2}\n",
      "jeloo {3}\n"
     ]
    }
   ],
   "source": [
    "for i in range(1,5):\n",
    "    print(\"jeloo\",{i})\n",
    "    if i ==3:\n",
    "       break"
   ]
  },
  {
   "cell_type": "code",
   "execution_count": 36,
   "metadata": {},
   "outputs": [
    {
     "name": "stdout",
     "output_type": "stream",
     "text": [
      "10\n"
     ]
    }
   ],
   "source": [
    "x = 10\n",
    "\n",
    "def mult(x):\n",
    "    x+=2\n",
    "mult(x)\n",
    "\n",
    "print(x)"
   ]
  },
  {
   "cell_type": "code",
   "execution_count": null,
   "metadata": {},
   "outputs": [],
   "source": []
  }
 ],
 "metadata": {
  "kernelspec": {
   "display_name": "python12",
   "language": "python",
   "name": "python3"
  },
  "language_info": {
   "codemirror_mode": {
    "name": "ipython",
    "version": 3
   },
   "file_extension": ".py",
   "mimetype": "text/x-python",
   "name": "python",
   "nbconvert_exporter": "python",
   "pygments_lexer": "ipython3",
   "version": "3.12.0"
  }
 },
 "nbformat": 4,
 "nbformat_minor": 2
}
